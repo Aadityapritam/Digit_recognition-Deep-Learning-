{
  "nbformat": 4,
  "nbformat_minor": 0,
  "metadata": {
    "colab": {
      "name": "Digit_recogniser.ipynb",
      "provenance": [],
      "collapsed_sections": [],
      "authorship_tag": "ABX9TyPXvUVCrM8CYWh7Jvgg4MtH",
      "include_colab_link": true
    },
    "kernelspec": {
      "name": "python3",
      "display_name": "Python 3"
    }
  },
  "cells": [
    {
      "cell_type": "markdown",
      "metadata": {
        "id": "view-in-github",
        "colab_type": "text"
      },
      "source": [
        "<a href=\"https://colab.research.google.com/github/Aadityapritam/Digit_recognition-Deep-Learning-/blob/master/Digit_recogniser.ipynb\" target=\"_parent\"><img src=\"https://colab.research.google.com/assets/colab-badge.svg\" alt=\"Open In Colab\"/></a>"
      ]
    },
    {
      "cell_type": "code",
      "metadata": {
        "id": "bIx41Hi1rMsN",
        "colab_type": "code",
        "colab": {}
      },
      "source": [
        "import keras\n",
        "from keras.datasets import mnist\n",
        "from keras.models import Sequential\n",
        "from keras.layers import Dense, Dropout\n",
        "from keras.optimizers import RMSprop\n",
        "import numpy as np"
      ],
      "execution_count": 0,
      "outputs": []
    },
    {
      "cell_type": "code",
      "metadata": {
        "id": "h6I3MBd1roAn",
        "colab_type": "code",
        "colab": {}
      },
      "source": [
        "(mnist_train_images, mnist_train_labels), (mnist_test_images, mnist_test_labels) = mnist.load_data()"
      ],
      "execution_count": 0,
      "outputs": []
    },
    {
      "cell_type": "code",
      "metadata": {
        "id": "jdfAhCiTsEkO",
        "colab_type": "code",
        "outputId": "db49dcb2-1b5f-4ab0-fba1-e22dc3a67dc4",
        "colab": {
          "base_uri": "https://localhost:8080/",
          "height": 67
        }
      },
      "source": [
        "train_images= mnist_train_images.reshape(60000, 784)\n",
        "test_images= mnist_test_images.reshape(10000, 784)\n",
        "\n",
        "train_images= train_images.astype('float32')\n",
        "test_images= test_images.astype('float32')\n",
        "\n",
        "train_images= train_images/255\n",
        "test_images= test_images/255 \n",
        "\n",
        "print('train_images shape:' ,train_images.shape)\n",
        "print(train_images.shape[0], 'train samples')\n",
        "print(test_images.shape[0], 'test samples')"
      ],
      "execution_count": 57,
      "outputs": [
        {
          "output_type": "stream",
          "text": [
            "train_images shape: (60000, 784)\n",
            "60000 train samples\n",
            "10000 test samples\n"
          ],
          "name": "stdout"
        }
      ]
    },
    {
      "cell_type": "code",
      "metadata": {
        "id": "Ytn2PXxPuFRi",
        "colab_type": "code",
        "colab": {}
      },
      "source": [
        "train_labels= keras.utils.to_categorical(mnist_train_labels, 10)\n",
        "test_labels= keras.utils.to_categorical(mnist_test_labels, 10)"
      ],
      "execution_count": 0,
      "outputs": []
    },
    {
      "cell_type": "code",
      "metadata": {
        "id": "vzVIN3_Sudt7",
        "colab_type": "code",
        "outputId": "1c6cce4b-78eb-4346-81ac-4a36da95e63b",
        "colab": {
          "base_uri": "https://localhost:8080/",
          "height": 298
        }
      },
      "source": [
        "import matplotlib.pyplot as plt\n",
        "\n",
        "def display_sample(num):\n",
        "  print(train_labels[num])\n",
        "\n",
        "  label= train_labels[num].argmax(axis=0)\n",
        "  image= train_images[num].reshape([28, 28])\n",
        "  plt.title('Sample: %d  Label %d' % (num, label))\n",
        "  plt.imshow(image, cmap=plt.get_cmap('gray_r'))\n",
        "  plt.show()\n",
        "\n",
        "display_sample(2235)"
      ],
      "execution_count": 59,
      "outputs": [
        {
          "output_type": "stream",
          "text": [
            "[0. 0. 0. 0. 1. 0. 0. 0. 0. 0.]\n"
          ],
          "name": "stdout"
        },
        {
          "output_type": "display_data",
          "data": {
            "image/png": "[encoded data removed]",
            "text/plain": [
              "<Figure size 432x288 with 1 Axes>"
            ]
          },
          "metadata": {
            "tags": []
          }
        }
      ]
    },
    {
      "cell_type": "code",
      "metadata": {
        "id": "gb5-fQK6vudw",
        "colab_type": "code",
        "colab": {}
      },
      "source": [
        "model= Sequential()\n",
        "model.add(Dense(512, activation='relu' , input_shape=(784,)))\n",
        "model.add(Dense(10, activation='softmax'))"
      ],
      "execution_count": 0,
      "outputs": []
    },
    {
      "cell_type": "code",
      "metadata": {
        "id": "Lh79xQqy2jzn",
        "colab_type": "code",
        "outputId": "22736734-70a8-49b9-8414-708a9453efca",
        "colab": {
          "base_uri": "https://localhost:8080/",
          "height": 218
        }
      },
      "source": [
        "model.summary()"
      ],
      "execution_count": 66,
      "outputs": [
        {
          "output_type": "stream",
          "text": [
            "Model: \"sequential_7\"\n",
            "_________________________________________________________________\n",
            "Layer (type)                 Output Shape              Param #   \n",
            "=================================================================\n",
            "dense_16 (Dense)             (None, 512)               401920    \n",
            "_________________________________________________________________\n",
            "dense_17 (Dense)             (None, 10)                5130      \n",
            "=================================================================\n",
            "Total params: 407,050\n",
            "Trainable params: 407,050\n",
            "Non-trainable params: 0\n",
            "_________________________________________________________________\n"
          ],
          "name": "stdout"
        }
      ]
    },
    {
      "cell_type": "code",
      "metadata": {
        "id": "oFHdLw6W2pbz",
        "colab_type": "code",
        "colab": {}
      },
      "source": [
        "model.compile(loss='categorical_crossentropy', \n",
        "              optimizer=RMSprop(),\n",
        "              metrics=['accuracy'])"
      ],
      "execution_count": 0,
      "outputs": []
    },
    {
      "cell_type": "code",
      "metadata": {
        "id": "lPR9NDNZ3JTr",
        "colab_type": "code",
        "outputId": "df1fc7f7-c150-4eff-c7f4-9ec41a55a58b",
        "colab": {
          "base_uri": "https://localhost:8080/",
          "height": 386
        }
      },
      "source": [
        "model.fit(train_images, train_labels,\n",
        "                   batch_size=80,\n",
        "                   epochs=10,\n",
        "                   verbose=2,\n",
        "                   validation_data=(test_images, test_labels))"
      ],
      "execution_count": 79,
      "outputs": [
        {
          "output_type": "stream",
          "text": [
            "Train on 60000 samples, validate on 10000 samples\n",
            "Epoch 1/10\n",
            " - 6s - loss: 0.0096 - acc: 0.9972 - val_loss: 0.0788 - val_acc: 0.9811\n",
            "Epoch 2/10\n",
            " - 5s - loss: 0.0077 - acc: 0.9978 - val_loss: 0.0865 - val_acc: 0.9800\n",
            "Epoch 3/10\n",
            " - 5s - loss: 0.0060 - acc: 0.9981 - val_loss: 0.0870 - val_acc: 0.9827\n",
            "Epoch 4/10\n",
            " - 5s - loss: 0.0051 - acc: 0.9985 - val_loss: 0.0862 - val_acc: 0.9823\n",
            "Epoch 5/10\n",
            " - 5s - loss: 0.0038 - acc: 0.9988 - val_loss: 0.0962 - val_acc: 0.9803\n",
            "Epoch 6/10\n",
            " - 6s - loss: 0.0032 - acc: 0.9991 - val_loss: 0.1086 - val_acc: 0.9793\n",
            "Epoch 7/10\n",
            " - 5s - loss: 0.0026 - acc: 0.9994 - val_loss: 0.0988 - val_acc: 0.9809\n",
            "Epoch 8/10\n",
            " - 5s - loss: 0.0023 - acc: 0.9994 - val_loss: 0.1055 - val_acc: 0.9807\n",
            "Epoch 9/10\n",
            " - 6s - loss: 0.0021 - acc: 0.9995 - val_loss: 0.1007 - val_acc: 0.9809\n",
            "Epoch 10/10\n",
            " - 5s - loss: 0.0016 - acc: 0.9996 - val_loss: 0.1163 - val_acc: 0.9789\n"
          ],
          "name": "stdout"
        },
        {
          "output_type": "execute_result",
          "data": {
            "text/plain": [
              "<keras.callbacks.History at 0x7f5d80e4b7f0>"
            ]
          },
          "metadata": {
            "tags": []
          },
          "execution_count": 79
        }
      ]
    },
    {
      "cell_type": "code",
      "metadata": {
        "id": "PwmD34ED4F58",
        "colab_type": "code",
        "outputId": "4ba312df-a249-471d-a338-f12790b0ba70",
        "colab": {
          "base_uri": "https://localhost:8080/",
          "height": 50
        }
      },
      "source": [
        "score= model.evaluate(test_images, test_labels , verbose=0)\n",
        "print('Test loss:', score[0])\n",
        "print('Test accuracy:', score[1])"
      ],
      "execution_count": 80,
      "outputs": [
        {
          "output_type": "stream",
          "text": [
            "Test loss: 0.11626613392173249\n",
            "Test accuracy: 0.9789\n"
          ],
          "name": "stdout"
        }
      ]
    },
    {
      "cell_type": "code",
      "metadata": {
        "id": "hzDmeezsjxW2",
        "colab_type": "code",
        "outputId": "f92b6bcc-0cf7-4710-9e94-30d76de1fae4",
        "colab": {
          "base_uri": "https://localhost:8080/",
          "height": 34
        }
      },
      "source": [
        "# model_json= model.to_json()\n",
        "# with open(\"model.json\", \"w\") as json_file:\n",
        "#   json_file.write(model_json)\n",
        "\n",
        "model.save_weights(\"model.h5\")\n",
        "print(\"Saved model to disk\")"
      ],
      "execution_count": 81,
      "outputs": [
        {
          "output_type": "stream",
          "text": [
            "Saved model to disk\n"
          ],
          "name": "stdout"
        }
      ]
    },
    {
      "cell_type": "code",
      "metadata": {
        "id": "yePo6u-fFwP-",
        "colab_type": "code",
        "colab": {}
      },
      "source": [
        ""
      ],
      "execution_count": 0,
      "outputs": []
    },
    {
      "cell_type": "code",
      "metadata": {
        "id": "GldWO4c14q_N",
        "colab_type": "code",
        "colab": {}
      },
      "source": [
        "# for x in range(1000):\n",
        "#   test_image= test_images[x,:].reshape(1,784)\n",
        "#   predicted_cat= model.predict(test_image).argmax()\n",
        "#   label= test_labels[x].argmax()\n",
        "#   if(predicted_cat!=label):\n",
        "#     plt.title('prediction: %d Label: %d' %(predicted_cat, label))\n",
        "#     plt.imshow(test_image.reshape([28,28]), cmap=plt.get_cmap('gray_r'))\n",
        "#     plt.show()"
      ],
      "execution_count": 0,
      "outputs": []
    },
    {
      "cell_type": "code",
      "metadata": {
        "id": "7uWthEUKo5d_",
        "colab_type": "code",
        "colab": {
          "base_uri": "https://localhost:8080/",
          "height": 67
        },
        "outputId": "d2bb3f2a-efe4-445b-b6b9-8cf20ed9dfab"
      },
      "source": [
        "# predict on the first 5 test images\n",
        "\n",
        "predictions= model.predict(test_images[6:8])\n",
        "# print(predictions)\n",
        "print(np.argmax(predictions, axis=1))\n",
        "print(test_labels[6:8])"
      ],
      "execution_count": 84,
      "outputs": [
        {
          "output_type": "stream",
          "text": [
            "[4 9]\n",
            "[[0. 0. 0. 0. 1. 0. 0. 0. 0. 0.]\n",
            " [0. 0. 0. 0. 0. 0. 0. 0. 0. 1.]]\n"
          ],
          "name": "stdout"
        }
      ]
    },
    {
      "cell_type": "code",
      "metadata": {
        "id": "-c9ZMndtpFqX",
        "colab_type": "code",
        "colab": {
          "base_uri": "https://localhost:8080/",
          "height": 513
        },
        "outputId": "1b1f5efb-6ae0-4be5-920b-ded1d954c9a0"
      },
      "source": [
        "for i in range(6,8):\n",
        "  first_image= test_images[i]\n",
        "  first_image= np.array(first_image, dtype='float')\n",
        "  pixels= first_image.reshape((28,28))\n",
        "  plt.imshow(pixels, cmap='gray_r')\n",
        "  plt.show()\n"
      ],
      "execution_count": 91,
      "outputs": [
        {
          "output_type": "display_data",
          "data": {
            "image/png": "[encoded data removed]",
            "text/plain": [
              "<Figure size 432x288 with 1 Axes>"
            ]
          },
          "metadata": {
            "tags": []
          }
        },
        {
          "output_type": "display_data",
          "data": {
            "image/png": "[encoded data removed]",
            "text/plain": [
              "<Figure size 432x288 with 1 Axes>"
            ]
          },
          "metadata": {
            "tags": []
          }
        }
      ]
    },
    {
      "cell_type": "markdown",
      "metadata": {
        "id": "2ZEmSATJpryN",
        "colab_type": "text"
      },
      "source": [
        ""
      ]
    },
    {
      "cell_type": "code",
      "metadata": {
        "id": "qmLblXrZ5Zmz",
        "colab_type": "code",
        "colab": {}
      },
      "source": [
        ""
      ],
      "execution_count": 0,
      "outputs": []
    }
  ]
}